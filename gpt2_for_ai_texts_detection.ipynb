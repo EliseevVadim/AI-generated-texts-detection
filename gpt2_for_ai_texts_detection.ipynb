{
 "cells": [
  {
   "cell_type": "markdown",
   "id": "4e038cb1",
   "metadata": {},
   "source": [
    "# Тонкая настройка модели gpt-2 (в маленьком размере) для задачи определения сгенерированных большими языковыми моделями текстов"
   ]
  },
  {
   "cell_type": "markdown",
   "id": "8fa21d20",
   "metadata": {},
   "source": [
    "Для работы использовался следующий [датасет](https://www.kaggle.com/datasets/sunilthite/llm-detect-ai-generated-text-dataset)"
   ]
  },
  {
   "cell_type": "markdown",
   "id": "75c63389",
   "metadata": {},
   "source": [
    "## Импорт необходимых зависимостей и настройка окружения"
   ]
  },
  {
   "cell_type": "code",
   "execution_count": 1,
   "id": "33d59756",
   "metadata": {},
   "outputs": [],
   "source": [
    "import os\n",
    "os.environ['CUDA_LAUNCH_BLOCKING'] = '1'"
   ]
  },
  {
   "cell_type": "code",
   "execution_count": 2,
   "id": "6742073d",
   "metadata": {},
   "outputs": [],
   "source": [
    "import warnings\n",
    "warnings.filterwarnings('ignore')"
   ]
  },
  {
   "cell_type": "code",
   "execution_count": 3,
   "id": "a5694e3a",
   "metadata": {},
   "outputs": [],
   "source": [
    "import numpy as np\n",
    "import pandas as pd\n",
    "import matplotlib.pyplot as plt\n",
    "import seaborn as sns\n",
    "import gc"
   ]
  },
  {
   "cell_type": "code",
   "execution_count": 4,
   "id": "6de2ff74",
   "metadata": {},
   "outputs": [],
   "source": [
    "import torch\n",
    "import torch.nn as nn\n",
    "\n",
    "from torch.optim import AdamW\n",
    "from torch.utils.data import Dataset, DataLoader"
   ]
  },
  {
   "cell_type": "code",
   "execution_count": 5,
   "id": "20196cfe",
   "metadata": {},
   "outputs": [],
   "source": [
    "import transformers\n",
    "from transformers import GPT2LMHeadModel, GPT2Tokenizer"
   ]
  },
  {
   "cell_type": "code",
   "execution_count": 6,
   "id": "758d8125",
   "metadata": {},
   "outputs": [],
   "source": [
    "from sklearn.model_selection import train_test_split\n",
    "from sklearn.metrics import accuracy_score, f1_score, roc_auc_score, roc_curve, auc, confusion_matrix"
   ]
  },
  {
   "cell_type": "code",
   "execution_count": 7,
   "id": "7f4fed21",
   "metadata": {},
   "outputs": [],
   "source": [
    "from core.utils import *\n",
    "from core.dataset import AITextDetectionDataset\n",
    "from core.model import *"
   ]
  },
  {
   "cell_type": "markdown",
   "id": "0fbeca60",
   "metadata": {},
   "source": [
    "Установим значение seed для воспроизводимости экспериментов"
   ]
  },
  {
   "cell_type": "code",
   "execution_count": 8,
   "id": "d0f8adc9",
   "metadata": {},
   "outputs": [],
   "source": [
    "init_random_seed(42)"
   ]
  },
  {
   "cell_type": "code",
   "execution_count": 9,
   "id": "5fb734db",
   "metadata": {},
   "outputs": [],
   "source": [
    "data_path = 'data'"
   ]
  },
  {
   "cell_type": "markdown",
   "id": "b19f8944",
   "metadata": {},
   "source": [
    "## Загрузка и первичный анализ данных"
   ]
  },
  {
   "cell_type": "code",
   "execution_count": 10,
   "id": "053eb9dd",
   "metadata": {},
   "outputs": [
    {
     "data": {
      "text/html": [
       "<div>\n",
       "<style scoped>\n",
       "    .dataframe tbody tr th:only-of-type {\n",
       "        vertical-align: middle;\n",
       "    }\n",
       "\n",
       "    .dataframe tbody tr th {\n",
       "        vertical-align: top;\n",
       "    }\n",
       "\n",
       "    .dataframe thead th {\n",
       "        text-align: right;\n",
       "    }\n",
       "</style>\n",
       "<table border=\"1\" class=\"dataframe\">\n",
       "  <thead>\n",
       "    <tr style=\"text-align: right;\">\n",
       "      <th></th>\n",
       "      <th>text</th>\n",
       "      <th>generated</th>\n",
       "    </tr>\n",
       "  </thead>\n",
       "  <tbody>\n",
       "    <tr>\n",
       "      <th>21645</th>\n",
       "      <td>There is no definitive answer when it comes to...</td>\n",
       "      <td>1</td>\n",
       "    </tr>\n",
       "    <tr>\n",
       "      <th>15447</th>\n",
       "      <td>When someone is looking for advice, they might...</td>\n",
       "      <td>1</td>\n",
       "    </tr>\n",
       "    <tr>\n",
       "      <th>16359</th>\n",
       "      <td>According to the text I think is a good idea t...</td>\n",
       "      <td>0</td>\n",
       "    </tr>\n",
       "    <tr>\n",
       "      <th>23888</th>\n",
       "      <td>The debate over whether nations should suspend...</td>\n",
       "      <td>1</td>\n",
       "    </tr>\n",
       "    <tr>\n",
       "      <th>12734</th>\n",
       "      <td>Dear our state Senator,\\n\\nI am writing to you...</td>\n",
       "      <td>0</td>\n",
       "    </tr>\n",
       "    <tr>\n",
       "      <th>27450</th>\n",
       "      <td>The fierce power of the sun has been guiding h...</td>\n",
       "      <td>1</td>\n",
       "    </tr>\n",
       "    <tr>\n",
       "      <th>9274</th>\n",
       "      <td>The techology called the Facial Action Coding ...</td>\n",
       "      <td>0</td>\n",
       "    </tr>\n",
       "    <tr>\n",
       "      <th>11610</th>\n",
       "      <td>Dear, state senator i strongly feel that we sh...</td>\n",
       "      <td>0</td>\n",
       "    </tr>\n",
       "    <tr>\n",
       "      <th>18112</th>\n",
       "      <td>The idea of creating a new menu for the cafete...</td>\n",
       "      <td>0</td>\n",
       "    </tr>\n",
       "    <tr>\n",
       "      <th>22401</th>\n",
       "      <td>Nowadays, senior high school students are unde...</td>\n",
       "      <td>1</td>\n",
       "    </tr>\n",
       "  </tbody>\n",
       "</table>\n",
       "</div>"
      ],
      "text/plain": [
       "                                                    text  generated\n",
       "21645  There is no definitive answer when it comes to...          1\n",
       "15447  When someone is looking for advice, they might...          1\n",
       "16359  According to the text I think is a good idea t...          0\n",
       "23888  The debate over whether nations should suspend...          1\n",
       "12734  Dear our state Senator,\\n\\nI am writing to you...          0\n",
       "27450  The fierce power of the sun has been guiding h...          1\n",
       "9274   The techology called the Facial Action Coding ...          0\n",
       "11610  Dear, state senator i strongly feel that we sh...          0\n",
       "18112  The idea of creating a new menu for the cafete...          0\n",
       "22401  Nowadays, senior high school students are unde...          1"
      ]
     },
     "execution_count": 10,
     "metadata": {},
     "output_type": "execute_result"
    }
   ],
   "source": [
    "essays = pd.read_csv(f\"{data_path}/Training_Essay_Data.csv\")\n",
    "essays.drop_duplicates(subset=['text'], inplace=True)\n",
    "essays.sample(10)"
   ]
  },
  {
   "cell_type": "code",
   "execution_count": 11,
   "id": "483a37ea",
   "metadata": {},
   "outputs": [
    {
     "name": "stdout",
     "output_type": "stream",
     "text": [
      "Количество записей в полном наборе данных: 27340\n"
     ]
    }
   ],
   "source": [
    "print(f\"Количество записей в полном наборе данных: {essays.shape[0]}\")"
   ]
  },
  {
   "cell_type": "markdown",
   "id": "35e47988",
   "metadata": {},
   "source": [
    "Установим читаемые метки для классов"
   ]
  },
  {
   "cell_type": "code",
   "execution_count": 12,
   "id": "09ce0c87",
   "metadata": {},
   "outputs": [],
   "source": [
    "types_map = {\n",
    "    0: 'Human written',\n",
    "    1: 'Generated'\n",
    "}"
   ]
  },
  {
   "cell_type": "code",
   "execution_count": 13,
   "id": "77301d55",
   "metadata": {},
   "outputs": [
    {
     "data": {
      "text/html": [
       "<div>\n",
       "<style scoped>\n",
       "    .dataframe tbody tr th:only-of-type {\n",
       "        vertical-align: middle;\n",
       "    }\n",
       "\n",
       "    .dataframe tbody tr th {\n",
       "        vertical-align: top;\n",
       "    }\n",
       "\n",
       "    .dataframe thead th {\n",
       "        text-align: right;\n",
       "    }\n",
       "</style>\n",
       "<table border=\"1\" class=\"dataframe\">\n",
       "  <thead>\n",
       "    <tr style=\"text-align: right;\">\n",
       "      <th></th>\n",
       "      <th>text</th>\n",
       "      <th>generated</th>\n",
       "      <th>type</th>\n",
       "    </tr>\n",
       "  </thead>\n",
       "  <tbody>\n",
       "    <tr>\n",
       "      <th>1231</th>\n",
       "      <td>\"Congestionwas down 60% in the capital of fran...</td>\n",
       "      <td>0</td>\n",
       "      <td>Human written</td>\n",
       "    </tr>\n",
       "    <tr>\n",
       "      <th>25119</th>\n",
       "      <td>The impact of technology on modern education i...</td>\n",
       "      <td>1</td>\n",
       "      <td>Generated</td>\n",
       "    </tr>\n",
       "    <tr>\n",
       "      <th>1001</th>\n",
       "      <td>The process of the electing the president is a...</td>\n",
       "      <td>0</td>\n",
       "      <td>Human written</td>\n",
       "    </tr>\n",
       "    <tr>\n",
       "      <th>22690</th>\n",
       "      <td>I agree with the prediction that in twenty yea...</td>\n",
       "      <td>1</td>\n",
       "      <td>Generated</td>\n",
       "    </tr>\n",
       "    <tr>\n",
       "      <th>10295</th>\n",
       "      <td>Twenty five years ago when NASA's Viking 1 spa...</td>\n",
       "      <td>0</td>\n",
       "      <td>Human written</td>\n",
       "    </tr>\n",
       "    <tr>\n",
       "      <th>10970</th>\n",
       "      <td>The faces that appear on mars is probably made...</td>\n",
       "      <td>0</td>\n",
       "      <td>Human written</td>\n",
       "    </tr>\n",
       "    <tr>\n",
       "      <th>6619</th>\n",
       "      <td>What the author was suggesting when he was say...</td>\n",
       "      <td>0</td>\n",
       "      <td>Human written</td>\n",
       "    </tr>\n",
       "    <tr>\n",
       "      <th>9072</th>\n",
       "      <td>The Facial Action Coding System (FACS) could b...</td>\n",
       "      <td>0</td>\n",
       "      <td>Human written</td>\n",
       "    </tr>\n",
       "    <tr>\n",
       "      <th>82</th>\n",
       "      <td>Advantages of Limiting Car Usage\\n\\nLimiting c...</td>\n",
       "      <td>1</td>\n",
       "      <td>Generated</td>\n",
       "    </tr>\n",
       "    <tr>\n",
       "      <th>6055</th>\n",
       "      <td>Should we study venus or throw away the idea b...</td>\n",
       "      <td>0</td>\n",
       "      <td>Human written</td>\n",
       "    </tr>\n",
       "  </tbody>\n",
       "</table>\n",
       "</div>"
      ],
      "text/plain": [
       "                                                    text  generated  \\\n",
       "1231   \"Congestionwas down 60% in the capital of fran...          0   \n",
       "25119  The impact of technology on modern education i...          1   \n",
       "1001   The process of the electing the president is a...          0   \n",
       "22690  I agree with the prediction that in twenty yea...          1   \n",
       "10295  Twenty five years ago when NASA's Viking 1 spa...          0   \n",
       "10970  The faces that appear on mars is probably made...          0   \n",
       "6619   What the author was suggesting when he was say...          0   \n",
       "9072   The Facial Action Coding System (FACS) could b...          0   \n",
       "82     Advantages of Limiting Car Usage\\n\\nLimiting c...          1   \n",
       "6055   Should we study venus or throw away the idea b...          0   \n",
       "\n",
       "                type  \n",
       "1231   Human written  \n",
       "25119      Generated  \n",
       "1001   Human written  \n",
       "22690      Generated  \n",
       "10295  Human written  \n",
       "10970  Human written  \n",
       "6619   Human written  \n",
       "9072   Human written  \n",
       "82         Generated  \n",
       "6055   Human written  "
      ]
     },
     "execution_count": 13,
     "metadata": {},
     "output_type": "execute_result"
    }
   ],
   "source": [
    "essays[\"type\"] = essays[\"generated\"].apply(lambda x: types_map[x])\n",
    "essays.sample(10)"
   ]
  },
  {
   "cell_type": "markdown",
   "id": "c5b9e9e3",
   "metadata": {},
   "source": [
    "Построим круговую диаграмму для отображения соотношения классов в наборе данных"
   ]
  },
  {
   "cell_type": "code",
   "execution_count": 14,
   "id": "bc4fb27a",
   "metadata": {},
   "outputs": [
    {
     "data": {
      "image/png": "[encoded data removed]",
      "text/plain": [
       "<Figure size 700x700 with 1 Axes>"
      ]
     },
     "metadata": {},
     "output_type": "display_data"
    }
   ],
   "source": [
    "labels_counts = essays.groupby('type').agg(count = ('type', 'count'))\n",
    "labels_counts.plot.pie(figsize=(7, 7), subplots=True, autopct='%1.1f%%')\n",
    "plt.ylabel('')\n",
    "plt.legend(loc='lower right')\n",
    "plt.show()"
   ]
  },
  {
   "cell_type": "markdown",
   "id": "3db90e45",
   "metadata": {},
   "source": [
    "Как видно, явный дисбаланс классов не наблюдается, поэтому необходимости использования стратегий сэмплирования для достижения баланса нет"
   ]
  },
  {
   "cell_type": "markdown",
   "id": "3776fc8c",
   "metadata": {},
   "source": [
    "## Подготовка модели к дообучению"
   ]
  },
  {
   "cell_type": "markdown",
   "id": "06a53e13",
   "metadata": {},
   "source": [
    "Определим устройство, на котором будет происходить дообучение модели"
   ]
  },
  {
   "cell_type": "code",
   "execution_count": 15,
   "id": "19f8ba28",
   "metadata": {},
   "outputs": [
    {
     "data": {
      "text/plain": [
       "'cuda'"
      ]
     },
     "execution_count": 15,
     "metadata": {},
     "output_type": "execute_result"
    }
   ],
   "source": [
    "device = ('cuda' if torch.cuda.is_available() else 'cpu')\n",
    "device"
   ]
  },
  {
   "cell_type": "markdown",
   "id": "7363e70f",
   "metadata": {},
   "source": [
    "Загрузим веса модели с помощью библиотеки `Transformers`"
   ]
  },
  {
   "cell_type": "code",
   "execution_count": 16,
   "id": "d779c36e",
   "metadata": {},
   "outputs": [],
   "source": [
    "pretrained_model_name_or_path = 'gpt2'"
   ]
  },
  {
   "cell_type": "code",
   "execution_count": 17,
   "id": "a48c39cd",
   "metadata": {},
   "outputs": [],
   "source": [
    "gpt = GPT2LMHeadModel.from_pretrained(pretrained_model_name_or_path)\n",
    "tokenizer = GPT2Tokenizer.from_pretrained(pretrained_model_name_or_path)"
   ]
  },
  {
   "cell_type": "code",
   "execution_count": 18,
   "id": "c81e7d1f",
   "metadata": {},
   "outputs": [
    {
     "data": {
      "text/plain": [
       "GPT2LMHeadModel(\n",
       "  (transformer): GPT2Model(\n",
       "    (wte): Embedding(50257, 768)\n",
       "    (wpe): Embedding(1024, 768)\n",
       "    (drop): Dropout(p=0.1, inplace=False)\n",
       "    (h): ModuleList(\n",
       "      (0-11): 12 x GPT2Block(\n",
       "        (ln_1): LayerNorm((768,), eps=1e-05, elementwise_affine=True)\n",
       "        (attn): GPT2Attention(\n",
       "          (c_attn): Conv1D()\n",
       "          (c_proj): Conv1D()\n",
       "          (attn_dropout): Dropout(p=0.1, inplace=False)\n",
       "          (resid_dropout): Dropout(p=0.1, inplace=False)\n",
       "        )\n",
       "        (ln_2): LayerNorm((768,), eps=1e-05, elementwise_affine=True)\n",
       "        (mlp): GPT2MLP(\n",
       "          (c_fc): Conv1D()\n",
       "          (c_proj): Conv1D()\n",
       "          (act): NewGELUActivation()\n",
       "          (dropout): Dropout(p=0.1, inplace=False)\n",
       "        )\n",
       "      )\n",
       "    )\n",
       "    (ln_f): LayerNorm((768,), eps=1e-05, elementwise_affine=True)\n",
       "  )\n",
       "  (lm_head): Linear(in_features=768, out_features=50257, bias=False)\n",
       ")"
      ]
     },
     "execution_count": 18,
     "metadata": {},
     "output_type": "execute_result"
    }
   ],
   "source": [
    "gpt"
   ]
  },
  {
   "cell_type": "markdown",
   "id": "d463ce5d",
   "metadata": {},
   "source": [
    "Отключим градиент для параметров модели, поскольку будем дообучать только последний линейный слой, который добавим позже (применим стратегию [Transfer learning](https://chanbong.github.io/2021/06/01/transfer_learning.html))"
   ]
  },
  {
   "cell_type": "code",
   "execution_count": 19,
   "id": "7468a5ec",
   "metadata": {},
   "outputs": [],
   "source": [
    "for param in gpt.parameters():\n",
    "    param.requires_grad = False"
   ]
  },
  {
   "cell_type": "code",
   "execution_count": 20,
   "id": "db0428fa",
   "metadata": {},
   "outputs": [
    {
     "data": {
      "text/plain": [
       "2"
      ]
     },
     "execution_count": 20,
     "metadata": {},
     "output_type": "execute_result"
    }
   ],
   "source": [
    "num_labels = essays.generated.nunique()\n",
    "num_labels"
   ]
  },
  {
   "cell_type": "markdown",
   "id": "5b415088",
   "metadata": {},
   "source": [
    "Заменим последний линейный слой модели на линейный слой, содержащий количество выходов, соответствующее количеству классов согласно задаче"
   ]
  },
  {
   "cell_type": "code",
   "execution_count": 21,
   "id": "413c15ae",
   "metadata": {},
   "outputs": [
    {
     "data": {
      "text/plain": [
       "GPT2LMHeadModel(\n",
       "  (transformer): GPT2Model(\n",
       "    (wte): Embedding(50257, 768)\n",
       "    (wpe): Embedding(1024, 768)\n",
       "    (drop): Dropout(p=0.1, inplace=False)\n",
       "    (h): ModuleList(\n",
       "      (0-11): 12 x GPT2Block(\n",
       "        (ln_1): LayerNorm((768,), eps=1e-05, elementwise_affine=True)\n",
       "        (attn): GPT2Attention(\n",
       "          (c_attn): Conv1D()\n",
       "          (c_proj): Conv1D()\n",
       "          (attn_dropout): Dropout(p=0.1, inplace=False)\n",
       "          (resid_dropout): Dropout(p=0.1, inplace=False)\n",
       "        )\n",
       "        (ln_2): LayerNorm((768,), eps=1e-05, elementwise_affine=True)\n",
       "        (mlp): GPT2MLP(\n",
       "          (c_fc): Conv1D()\n",
       "          (c_proj): Conv1D()\n",
       "          (act): NewGELUActivation()\n",
       "          (dropout): Dropout(p=0.1, inplace=False)\n",
       "        )\n",
       "      )\n",
       "    )\n",
       "    (ln_f): LayerNorm((768,), eps=1e-05, elementwise_affine=True)\n",
       "  )\n",
       "  (lm_head): Linear(in_features=768, out_features=2, bias=True)\n",
       ")"
      ]
     },
     "execution_count": 21,
     "metadata": {},
     "output_type": "execute_result"
    }
   ],
   "source": [
    "gpt.lm_head = nn.Linear(gpt.config.hidden_size, num_labels)\n",
    "gpt = gpt.to(device)\n",
    "gpt"
   ]
  },
  {
   "cell_type": "markdown",
   "id": "e88a3963",
   "metadata": {},
   "source": [
    "Определим максимальный размер контекста модели чтобы применить к входным данным операции `padding` и `truncation`"
   ]
  },
  {
   "cell_type": "code",
   "execution_count": 22,
   "id": "c6c5a70e",
   "metadata": {},
   "outputs": [
    {
     "data": {
      "text/plain": [
       "1024"
      ]
     },
     "execution_count": 22,
     "metadata": {},
     "output_type": "execute_result"
    }
   ],
   "source": [
    "max_size_of_tokenized_text = gpt.config.n_ctx\n",
    "max_size_of_tokenized_text"
   ]
  },
  {
   "cell_type": "markdown",
   "id": "da5a9982",
   "metadata": {},
   "source": [
    "## Подготовка данных"
   ]
  },
  {
   "cell_type": "markdown",
   "id": "7bd5485c",
   "metadata": {},
   "source": [
    "Выделим признаки и целевую переменную"
   ]
  },
  {
   "cell_type": "code",
   "execution_count": 23,
   "id": "19dc909a",
   "metadata": {},
   "outputs": [],
   "source": [
    "X = essays.text\n",
    "y = essays.generated"
   ]
  },
  {
   "cell_type": "markdown",
   "id": "e8f85103",
   "metadata": {},
   "source": [
    "Выделим из датасета тренировочную и тестовую выборки (в соотношении 80/20)"
   ]
  },
  {
   "cell_type": "code",
   "execution_count": 24,
   "id": "76943ff3",
   "metadata": {},
   "outputs": [],
   "source": [
    "X_train, X_test, y_train, y_test = train_test_split(X, y, test_size=0.2, random_state=42)"
   ]
  },
  {
   "cell_type": "markdown",
   "id": "5e52255e",
   "metadata": {},
   "source": [
    "Если в образце данных меньше токенов, чем максимальное воспринимаемое моделью количество - дополним его токеном конца текста"
   ]
  },
  {
   "cell_type": "code",
   "execution_count": 25,
   "id": "058e5626",
   "metadata": {},
   "outputs": [
    {
     "name": "stdout",
     "output_type": "stream",
     "text": [
      "<|endoftext|>\n"
     ]
    }
   ],
   "source": [
    "tokenizer.pad_token_id = 50256\n",
    "print(tokenizer.pad_token)"
   ]
  },
  {
   "cell_type": "code",
   "execution_count": 26,
   "id": "601313ee",
   "metadata": {},
   "outputs": [],
   "source": [
    "train_dataset = AITextDetectionDataset(X_train, y_train, tokenizer, device=device, max_length=max_size_of_tokenized_text)\n",
    "test_dataset = AITextDetectionDataset(X_test, y_test, tokenizer, device=device, max_length=max_size_of_tokenized_text)\n",
    "\n",
    "free_memory()"
   ]
  },
  {
   "cell_type": "code",
   "execution_count": 27,
   "id": "e819dc4d",
   "metadata": {},
   "outputs": [
    {
     "name": "stdout",
     "output_type": "stream",
     "text": [
      "Количество записей в тренировочном наборе данных: 21872\n",
      "Количество записей в тестовом наборе данных: 5468\n"
     ]
    }
   ],
   "source": [
    "print(f\"Количество записей в тренировочном наборе данных: {len(train_dataset)}\")\n",
    "print(f\"Количество записей в тестовом наборе данных: {len(test_dataset)}\")"
   ]
  },
  {
   "cell_type": "markdown",
   "id": "7f0e786c",
   "metadata": {},
   "source": [
    "## Обучение модели"
   ]
  },
  {
   "cell_type": "code",
   "execution_count": 28,
   "id": "bb6dfbdd",
   "metadata": {},
   "outputs": [],
   "source": [
    "batch_size = 32\n",
    "num_epochs = 5"
   ]
  },
  {
   "cell_type": "code",
   "execution_count": 29,
   "id": "49ea71d3",
   "metadata": {},
   "outputs": [],
   "source": [
    "train_loader = DataLoader(train_dataset, batch_size=batch_size, shuffle=True)"
   ]
  },
  {
   "cell_type": "code",
   "execution_count": 30,
   "id": "4c8085ce",
   "metadata": {},
   "outputs": [],
   "source": [
    "optimizer = AdamW(gpt.lm_head.parameters(), lr=0.01, weight_decay=1e-4)\n",
    "criterion = nn.CrossEntropyLoss()"
   ]
  },
  {
   "cell_type": "code",
   "execution_count": 31,
   "id": "1f3c504f",
   "metadata": {},
   "outputs": [
    {
     "name": "stdout",
     "output_type": "stream",
     "text": [
      "Average loss: 0.11506738513708115, Train accuracy: 0.9630577907827359, Train f1 score: 0.9551260690880818\n",
      "Average loss: 0.023634048178792, Train accuracy: 0.9925932699341624, Train f1 score: 0.990961838875251\n",
      "Average loss: 0.019348949193954468, Train accuracy: 0.9945592538405267, Train f1 score: 0.9933552962197777\n",
      "Average loss: 0.01702679507434368, Train accuracy: 0.9947421360643746, Train f1 score: 0.993584379358438\n",
      "Average loss: 0.013100982643663883, Train accuracy: 0.9960223116313094, Train f1 score: 0.9951480675924377\n",
      "CPU times: total: 2h 19min 54s\n",
      "Wall time: 2h 21min 50s\n"
     ]
    }
   ],
   "source": [
    "%%time\n",
    "loss_history, train_history, f1_history = train_model(gpt, \n",
    "                                          train_loader, \n",
    "                                          criterion, \n",
    "                                          optimizer, num_epochs, device=device)"
   ]
  },
  {
   "cell_type": "code",
   "execution_count": 32,
   "id": "8fb68783",
   "metadata": {},
   "outputs": [],
   "source": [
    "free_memory()"
   ]
  },
  {
   "cell_type": "markdown",
   "id": "0b50189b",
   "metadata": {},
   "source": [
    "Построим графики изменения значений функции потерь, точности и F1-score по эпохам обучения"
   ]
  },
  {
   "cell_type": "code",
   "execution_count": 33,
   "id": "893d01ea",
   "metadata": {},
   "outputs": [
    {
     "data": {
      "image/png": "[encoded data removed]",
      "text/plain": [
       "<Figure size 640x480 with 1 Axes>"
      ]
     },
     "metadata": {},
     "output_type": "display_data"
    }
   ],
   "source": [
    "plt.title(\"History\")\n",
    "plt.plot(loss_history, label=\"Loss history\")\n",
    "plt.legend(loc=\"upper left\")\n",
    "plt.show()"
   ]
  },
  {
   "cell_type": "code",
   "execution_count": 34,
   "id": "53d2ad72",
   "metadata": {},
   "outputs": [
    {
     "data": {
      "image/png": "[encoded data removed]",
      "text/plain": [
       "<Figure size 640x480 with 1 Axes>"
      ]
     },
     "metadata": {},
     "output_type": "display_data"
    }
   ],
   "source": [
    "plt.title(\"History\")\n",
    "plt.plot(train_history, label=\"Accuracy history\")\n",
    "plt.legend(loc=\"upper left\")\n",
    "plt.show()"
   ]
  },
  {
   "cell_type": "code",
   "execution_count": 35,
   "id": "8620525d",
   "metadata": {},
   "outputs": [
    {
     "data": {
      "image/png": "[encoded data removed]",
      "text/plain": [
       "<Figure size 640x480 with 1 Axes>"
      ]
     },
     "metadata": {},
     "output_type": "display_data"
    }
   ],
   "source": [
    "plt.title(\"History\")\n",
    "plt.plot(f1_history, label=\"F1-score history\")\n",
    "plt.legend(loc=\"upper left\")\n",
    "plt.show()"
   ]
  },
  {
   "cell_type": "markdown",
   "id": "42b94ec6",
   "metadata": {},
   "source": [
    "## Тестирование модели"
   ]
  },
  {
   "cell_type": "code",
   "execution_count": 36,
   "id": "bbaae4af",
   "metadata": {},
   "outputs": [],
   "source": [
    "test_loader = DataLoader(test_dataset, batch_size=batch_size)"
   ]
  },
  {
   "cell_type": "markdown",
   "id": "d4ee03c1",
   "metadata": {},
   "source": [
    "Получим предсказания модели в формате меток и вероятностей положительного класса"
   ]
  },
  {
   "cell_type": "code",
   "execution_count": 37,
   "id": "d0a52665",
   "metadata": {},
   "outputs": [],
   "source": [
    "ground_truth, predictions, probabilities = get_model_predictions(model=gpt, data_loader=test_loader, device=device)"
   ]
  },
  {
   "cell_type": "markdown",
   "id": "e77994ef",
   "metadata": {},
   "source": [
    "Вычислим точность, f1-score, ROC AUC"
   ]
  },
  {
   "cell_type": "code",
   "execution_count": 38,
   "id": "fe61e341",
   "metadata": {},
   "outputs": [
    {
     "name": "stdout",
     "output_type": "stream",
     "text": [
      "Test accuracy is 0.9369056327724945\n"
     ]
    }
   ],
   "source": [
    "accuracy = accuracy_score(ground_truth, predictions)\n",
    "print(f\"Test accuracy is {accuracy}\")"
   ]
  },
  {
   "cell_type": "code",
   "execution_count": 39,
   "id": "9f02b0bf",
   "metadata": {},
   "outputs": [
    {
     "name": "stdout",
     "output_type": "stream",
     "text": [
      "Test F1-score is 0.9285862140343614\n"
     ]
    }
   ],
   "source": [
    "f1 = f1_score(ground_truth, predictions)\n",
    "print(f\"Test F1-score is {f1}\")"
   ]
  },
  {
   "cell_type": "code",
   "execution_count": 40,
   "id": "d91df9cd",
   "metadata": {},
   "outputs": [
    {
     "name": "stdout",
     "output_type": "stream",
     "text": [
      "Test ROC-AUC score is 0.9995942304994654\n"
     ]
    }
   ],
   "source": [
    "roc_auc = roc_auc_score(ground_truth, probabilities)\n",
    "print(f\"Test ROC-AUC score is {roc_auc}\")"
   ]
  },
  {
   "cell_type": "markdown",
   "id": "85a9b60b",
   "metadata": {},
   "source": [
    "Построим матрицу ошибок модели"
   ]
  },
  {
   "cell_type": "code",
   "execution_count": 41,
   "id": "b5944b3d",
   "metadata": {},
   "outputs": [
    {
     "data": {
      "image/png": "[encoded data removed]",
      "text/plain": [
       "<Figure size 800x600 with 2 Axes>"
      ]
     },
     "metadata": {},
     "output_type": "display_data"
    }
   ],
   "source": [
    "cm = confusion_matrix(ground_truth, predictions)\n",
    "\n",
    "plt.figure(figsize=(8, 6))\n",
    "sns.heatmap(cm, annot=True, fmt='d', cmap='magma', cbar=True, xticklabels=['Predicted human written', 'Predicted generated'], \n",
    "            yticklabels=['Actual human written', 'Actual generated'])\n",
    "plt.xlabel('Predicted')\n",
    "plt.ylabel('Actual')\n",
    "plt.title('Confusion Matrix')\n",
    "plt.show()"
   ]
  },
  {
   "cell_type": "markdown",
   "id": "0a6d8a90",
   "metadata": {},
   "source": [
    "Построим ROC кривую"
   ]
  },
  {
   "cell_type": "code",
   "execution_count": 42,
   "id": "8db489d0",
   "metadata": {},
   "outputs": [
    {
     "data": {
      "image/png": "[encoded data removed]",
      "text/plain": [
       "<Figure size 640x480 with 1 Axes>"
      ]
     },
     "metadata": {},
     "output_type": "display_data"
    }
   ],
   "source": [
    "fpr, tpr, thresholds = roc_curve(ground_truth, probabilities)\n",
    "roc_auc = auc(fpr, tpr)\n",
    "\n",
    "plt.figure()\n",
    "plt.plot(fpr, tpr, label=\"ROC curve (area = %0.6f)\" % (roc_auc))\n",
    "plt.plot([0, 1], [0, 1], 'k--')\n",
    "plt.xlim([0.0, 1.0])\n",
    "plt.xlim([0.0, 1.05])\n",
    "plt.xlabel('False positive rate')\n",
    "plt.xlabel('True positive rate')\n",
    "plt.title('ROC РєСЂРёРІР°СЏ')\n",
    "plt.legend(loc='lower right')\n",
    "plt.grid()\n",
    "plt.gca().patch.set_facecolor('lightgrey')\n",
    "plt.gca().patch.set_alpha(0.5)\n",
    "plt.show()"
   ]
  },
  {
   "cell_type": "markdown",
   "id": "f46930b3",
   "metadata": {},
   "source": [
    "## Сохранение, загрузка и повторное тестирование модели"
   ]
  },
  {
   "cell_type": "code",
   "execution_count": 43,
   "id": "ac967966",
   "metadata": {},
   "outputs": [],
   "source": [
    "torch.save(gpt, \"models/gpt2_for_ai_text_detection.pth\")"
   ]
  },
  {
   "cell_type": "code",
   "execution_count": 44,
   "id": "81cf135c",
   "metadata": {},
   "outputs": [
    {
     "data": {
      "text/plain": [
       "GPT2LMHeadModel(\n",
       "  (transformer): GPT2Model(\n",
       "    (wte): Embedding(50257, 768)\n",
       "    (wpe): Embedding(1024, 768)\n",
       "    (drop): Dropout(p=0.1, inplace=False)\n",
       "    (h): ModuleList(\n",
       "      (0-11): 12 x GPT2Block(\n",
       "        (ln_1): LayerNorm((768,), eps=1e-05, elementwise_affine=True)\n",
       "        (attn): GPT2Attention(\n",
       "          (c_attn): Conv1D()\n",
       "          (c_proj): Conv1D()\n",
       "          (attn_dropout): Dropout(p=0.1, inplace=False)\n",
       "          (resid_dropout): Dropout(p=0.1, inplace=False)\n",
       "        )\n",
       "        (ln_2): LayerNorm((768,), eps=1e-05, elementwise_affine=True)\n",
       "        (mlp): GPT2MLP(\n",
       "          (c_fc): Conv1D()\n",
       "          (c_proj): Conv1D()\n",
       "          (act): NewGELUActivation()\n",
       "          (dropout): Dropout(p=0.1, inplace=False)\n",
       "        )\n",
       "      )\n",
       "    )\n",
       "    (ln_f): LayerNorm((768,), eps=1e-05, elementwise_affine=True)\n",
       "  )\n",
       "  (lm_head): Linear(in_features=768, out_features=2, bias=True)\n",
       ")"
      ]
     },
     "execution_count": 44,
     "metadata": {},
     "output_type": "execute_result"
    }
   ],
   "source": [
    "ai_texts_detector = torch.load(\"models/gpt2_for_ai_text_detection.pth\")\n",
    "ai_texts_detector = ai_texts_detector.to(device)\n",
    "ai_texts_detector"
   ]
  },
  {
   "cell_type": "code",
   "execution_count": 45,
   "id": "2a930903",
   "metadata": {},
   "outputs": [
    {
     "name": "stdout",
     "output_type": "stream",
     "text": [
      "CPU times: total: 7min\n",
      "Wall time: 7min 1s\n"
     ]
    }
   ],
   "source": [
    "%%time\n",
    "loaded_model_ground_truth, \\\n",
    "loaded_model_predictions, \\\n",
    "loaded_model_probabilities = get_model_predictions(model=ai_texts_detector, data_loader=test_loader, device=device)"
   ]
  },
  {
   "cell_type": "code",
   "execution_count": 46,
   "id": "d688bb85",
   "metadata": {},
   "outputs": [
    {
     "name": "stdout",
     "output_type": "stream",
     "text": [
      "Loaded model accuracy is 0.9369056327724945\n"
     ]
    }
   ],
   "source": [
    "loaded_model_accuracy = accuracy_score(loaded_model_ground_truth, loaded_model_predictions)\n",
    "print(f\"Loaded model accuracy is {accuracy}\")"
   ]
  },
  {
   "cell_type": "code",
   "execution_count": 47,
   "id": "6423763e",
   "metadata": {},
   "outputs": [
    {
     "name": "stdout",
     "output_type": "stream",
     "text": [
      "Loaded model F1-score is 0.9285862140343614\n"
     ]
    }
   ],
   "source": [
    "loaded_model_f1 = f1_score(loaded_model_ground_truth, loaded_model_predictions)\n",
    "print(f\"Loaded model F1-score is {loaded_model_f1}\")"
   ]
  },
  {
   "cell_type": "code",
   "execution_count": 48,
   "id": "7efbe4a4",
   "metadata": {},
   "outputs": [
    {
     "name": "stdout",
     "output_type": "stream",
     "text": [
      "Loaded model ROC-AUC score is 0.9995942304994654\n"
     ]
    }
   ],
   "source": [
    "loaded_model_roc_auc = roc_auc_score(loaded_model_ground_truth, loaded_model_probabilities)\n",
    "print(f\"Loaded model ROC-AUC score is {loaded_model_roc_auc}\")"
   ]
  }
 ],
 "metadata": {
  "kernelspec": {
   "display_name": "Python 3 (ipykernel)",
   "language": "python",
   "name": "python3"
  },
  "language_info": {
   "codemirror_mode": {
    "name": "ipython",
    "version": 3
   },
   "file_extension": ".py",
   "mimetype": "text/x-python",
   "name": "python",
   "nbconvert_exporter": "python",
   "pygments_lexer": "ipython3",
   "version": "3.11.5"
  }
 },
 "nbformat": 4,
 "nbformat_minor": 5
}
